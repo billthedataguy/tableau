{
 "cells": [
  {
   "cell_type": "code",
   "execution_count": 1,
   "id": "564b9499",
   "metadata": {},
   "outputs": [],
   "source": [
    "import datetime as dt\n",
    "import pandas as pd\n",
    "import seaborn as sns\n",
    "# from pandas_profiling import ProfileReport\n",
    "pd.set_option('display.max_rows', 500)"
   ]
  },
  {
   "cell_type": "code",
   "execution_count": 2,
   "id": "45bd6d2d",
   "metadata": {},
   "outputs": [],
   "source": [
    "df = pd.read_csv(\"2022-01.csv\", encoding=\"utf-8\", low_memory=False)"
   ]
  },
  {
   "cell_type": "code",
   "execution_count": 3,
   "id": "7c534b73",
   "metadata": {},
   "outputs": [
    {
     "name": "stdout",
     "output_type": "stream",
     "text": [
      "<class 'pandas.core.frame.DataFrame'>\n",
      "RangeIndex: 1052418 entries, 0 to 1052417\n",
      "Data columns (total 13 columns):\n",
      " #   Column              Non-Null Count    Dtype  \n",
      "---  ------              --------------    -----  \n",
      " 0   ride_id             1052418 non-null  object \n",
      " 1   rideable_type       1052418 non-null  object \n",
      " 2   started_at          1052418 non-null  object \n",
      " 3   ended_at            1052418 non-null  object \n",
      " 4   start_station_name  1052418 non-null  object \n",
      " 5   start_station_id    1052418 non-null  object \n",
      " 6   end_station_name    1043187 non-null  object \n",
      " 7   end_station_id      1043187 non-null  object \n",
      " 8   start_lat           1052418 non-null  float64\n",
      " 9   start_lng           1052418 non-null  float64\n",
      " 10  end_lat             1045920 non-null  float64\n",
      " 11  end_lng             1045920 non-null  float64\n",
      " 12  member_casual       1052418 non-null  object \n",
      "dtypes: float64(4), object(9)\n",
      "memory usage: 104.4+ MB\n"
     ]
    }
   ],
   "source": [
    "df.info()"
   ]
  },
  {
   "cell_type": "code",
   "execution_count": 4,
   "id": "0e2cdef3",
   "metadata": {},
   "outputs": [],
   "source": [
    "df = df.dropna(axis=\"index\")\n",
    "df = df.reset_index(drop=True)\n",
    "df[\"rideable_type\"] = df[\"rideable_type\"].astype(\"category\")\n",
    "df[\"member_casual\"] = df[\"member_casual\"].astype(\"category\")\n",
    "df[\"started_at\"] = pd.to_datetime(df[\"started_at\"], infer_datetime_format=True)  \n",
    "df[\"ended_at\"] = pd.to_datetime(df[\"ended_at\"], infer_datetime_format=True)  \n",
    "df[\"start_hour\"] = df[\"started_at\"].dt.hour\n",
    "df[\"end_hour\"] = df[\"ended_at\"].dt.hour\n",
    "df[\"elapsed_min\"] = (df[\"ended_at\"] - df[\"started_at\"])\n",
    "df[\"elapsed_min\"] = df[\"elapsed_min\"].astype(\"timedelta64[m]\")\n",
    "df = df.reset_index(drop=True)"
   ]
  },
  {
   "cell_type": "code",
   "execution_count": 5,
   "id": "746a76a6",
   "metadata": {},
   "outputs": [
    {
     "data": {
      "text/html": [
       "<div>\n",
       "<style scoped>\n",
       "    .dataframe tbody tr th:only-of-type {\n",
       "        vertical-align: middle;\n",
       "    }\n",
       "\n",
       "    .dataframe tbody tr th {\n",
       "        vertical-align: top;\n",
       "    }\n",
       "\n",
       "    .dataframe thead th {\n",
       "        text-align: right;\n",
       "    }\n",
       "</style>\n",
       "<table border=\"1\" class=\"dataframe\">\n",
       "  <thead>\n",
       "    <tr style=\"text-align: right;\">\n",
       "      <th></th>\n",
       "      <th>ride_id</th>\n",
       "      <th>rideable_type</th>\n",
       "      <th>started_at</th>\n",
       "      <th>ended_at</th>\n",
       "      <th>start_station_name</th>\n",
       "      <th>start_station_id</th>\n",
       "      <th>end_station_name</th>\n",
       "      <th>end_station_id</th>\n",
       "      <th>start_lat</th>\n",
       "      <th>start_lng</th>\n",
       "      <th>end_lat</th>\n",
       "      <th>end_lng</th>\n",
       "      <th>member_casual</th>\n",
       "      <th>start_hour</th>\n",
       "      <th>end_hour</th>\n",
       "      <th>elapsed_min</th>\n",
       "    </tr>\n",
       "  </thead>\n",
       "  <tbody>\n",
       "    <tr>\n",
       "      <th>0</th>\n",
       "      <td>55262E4365A955A2</td>\n",
       "      <td>classic_bike</td>\n",
       "      <td>2022-01-18 08:23:52</td>\n",
       "      <td>2022-01-18 08:28:18</td>\n",
       "      <td>Boerum Pl\\t&amp; Pacific St</td>\n",
       "      <td>4488.09</td>\n",
       "      <td>Clinton St &amp; Joralemon St</td>\n",
       "      <td>4605.04</td>\n",
       "      <td>40.688489</td>\n",
       "      <td>-73.991160</td>\n",
       "      <td>40.692395</td>\n",
       "      <td>-73.993379</td>\n",
       "      <td>member</td>\n",
       "      <td>8</td>\n",
       "      <td>8</td>\n",
       "      <td>4.0</td>\n",
       "    </tr>\n",
       "    <tr>\n",
       "      <th>1</th>\n",
       "      <td>D272F1B15D841EC0</td>\n",
       "      <td>classic_bike</td>\n",
       "      <td>2022-01-21 09:03:22</td>\n",
       "      <td>2022-01-21 09:05:44</td>\n",
       "      <td>E 12 St &amp; Ave C</td>\n",
       "      <td>5616.08</td>\n",
       "      <td>E 10 St &amp; Avenue A</td>\n",
       "      <td>5659.05</td>\n",
       "      <td>40.727243</td>\n",
       "      <td>-73.976831</td>\n",
       "      <td>40.727408</td>\n",
       "      <td>-73.981420</td>\n",
       "      <td>member</td>\n",
       "      <td>9</td>\n",
       "      <td>9</td>\n",
       "      <td>2.0</td>\n",
       "    </tr>\n",
       "    <tr>\n",
       "      <th>2</th>\n",
       "      <td>D1FCEF55EB4A807F</td>\n",
       "      <td>classic_bike</td>\n",
       "      <td>2022-01-22 14:28:32</td>\n",
       "      <td>2022-01-22 14:53:18</td>\n",
       "      <td>W 21 St &amp; 6 Ave</td>\n",
       "      <td>6140.05</td>\n",
       "      <td>W 44 St &amp; 11 Ave</td>\n",
       "      <td>6756.05</td>\n",
       "      <td>40.741740</td>\n",
       "      <td>-73.994156</td>\n",
       "      <td>40.762009</td>\n",
       "      <td>-73.996975</td>\n",
       "      <td>member</td>\n",
       "      <td>14</td>\n",
       "      <td>14</td>\n",
       "      <td>24.0</td>\n",
       "    </tr>\n",
       "    <tr>\n",
       "      <th>3</th>\n",
       "      <td>E9CBDC6A0162C068</td>\n",
       "      <td>electric_bike</td>\n",
       "      <td>2022-01-19 14:49:47</td>\n",
       "      <td>2022-01-19 14:54:02</td>\n",
       "      <td>38 St &amp; 30 Ave</td>\n",
       "      <td>6850.01</td>\n",
       "      <td>Crescent St &amp; 30 Ave</td>\n",
       "      <td>6958.06</td>\n",
       "      <td>40.764175</td>\n",
       "      <td>-73.915840</td>\n",
       "      <td>40.768692</td>\n",
       "      <td>-73.924957</td>\n",
       "      <td>member</td>\n",
       "      <td>14</td>\n",
       "      <td>14</td>\n",
       "      <td>4.0</td>\n",
       "    </tr>\n",
       "    <tr>\n",
       "      <th>4</th>\n",
       "      <td>2177A5B57326CE9B</td>\n",
       "      <td>electric_bike</td>\n",
       "      <td>2022-01-16 14:36:06</td>\n",
       "      <td>2022-01-16 14:44:06</td>\n",
       "      <td>Pacific St &amp; Nevins St</td>\n",
       "      <td>4362.04</td>\n",
       "      <td>Clinton St &amp; Tillary St</td>\n",
       "      <td>4748.07</td>\n",
       "      <td>40.685376</td>\n",
       "      <td>-73.983021</td>\n",
       "      <td>40.696233</td>\n",
       "      <td>-73.991421</td>\n",
       "      <td>member</td>\n",
       "      <td>14</td>\n",
       "      <td>14</td>\n",
       "      <td>8.0</td>\n",
       "    </tr>\n",
       "    <tr>\n",
       "      <th>...</th>\n",
       "      <td>...</td>\n",
       "      <td>...</td>\n",
       "      <td>...</td>\n",
       "      <td>...</td>\n",
       "      <td>...</td>\n",
       "      <td>...</td>\n",
       "      <td>...</td>\n",
       "      <td>...</td>\n",
       "      <td>...</td>\n",
       "      <td>...</td>\n",
       "      <td>...</td>\n",
       "      <td>...</td>\n",
       "      <td>...</td>\n",
       "      <td>...</td>\n",
       "      <td>...</td>\n",
       "      <td>...</td>\n",
       "    </tr>\n",
       "    <tr>\n",
       "      <th>1043182</th>\n",
       "      <td>3A8436E896501EB6</td>\n",
       "      <td>classic_bike</td>\n",
       "      <td>2022-01-09 09:40:49</td>\n",
       "      <td>2022-01-09 09:58:55</td>\n",
       "      <td>27 St &amp; Hunter St</td>\n",
       "      <td>6310.06</td>\n",
       "      <td>Vernon Blvd &amp; 50 Ave</td>\n",
       "      <td>6170.02</td>\n",
       "      <td>40.748500</td>\n",
       "      <td>-73.941275</td>\n",
       "      <td>40.742327</td>\n",
       "      <td>-73.954117</td>\n",
       "      <td>casual</td>\n",
       "      <td>9</td>\n",
       "      <td>9</td>\n",
       "      <td>18.0</td>\n",
       "    </tr>\n",
       "    <tr>\n",
       "      <th>1043183</th>\n",
       "      <td>31EE3AF319AE47D2</td>\n",
       "      <td>classic_bike</td>\n",
       "      <td>2022-01-26 16:11:27</td>\n",
       "      <td>2022-01-26 16:17:20</td>\n",
       "      <td>Monroe St &amp; Bedford Ave</td>\n",
       "      <td>4368.05</td>\n",
       "      <td>Putnam Ave &amp; Throop Ave</td>\n",
       "      <td>4392.04</td>\n",
       "      <td>40.685144</td>\n",
       "      <td>-73.953809</td>\n",
       "      <td>40.685153</td>\n",
       "      <td>-73.941110</td>\n",
       "      <td>casual</td>\n",
       "      <td>16</td>\n",
       "      <td>16</td>\n",
       "      <td>5.0</td>\n",
       "    </tr>\n",
       "    <tr>\n",
       "      <th>1043184</th>\n",
       "      <td>C27D809EC458BE2A</td>\n",
       "      <td>electric_bike</td>\n",
       "      <td>2022-01-20 11:39:41</td>\n",
       "      <td>2022-01-20 11:44:46</td>\n",
       "      <td>E 118 St &amp; 1 Ave</td>\n",
       "      <td>7596.10</td>\n",
       "      <td>Lexington Ave &amp; E 111 St</td>\n",
       "      <td>7567.06</td>\n",
       "      <td>40.797470</td>\n",
       "      <td>-73.935040</td>\n",
       "      <td>40.795412</td>\n",
       "      <td>-73.944123</td>\n",
       "      <td>member</td>\n",
       "      <td>11</td>\n",
       "      <td>11</td>\n",
       "      <td>5.0</td>\n",
       "    </tr>\n",
       "    <tr>\n",
       "      <th>1043185</th>\n",
       "      <td>4968572973DEDCB2</td>\n",
       "      <td>electric_bike</td>\n",
       "      <td>2022-01-18 21:17:11</td>\n",
       "      <td>2022-01-18 21:25:57</td>\n",
       "      <td>Allen St &amp; Hester St</td>\n",
       "      <td>5342.10</td>\n",
       "      <td>1 Ave &amp; E 18 St</td>\n",
       "      <td>5854.09</td>\n",
       "      <td>40.716059</td>\n",
       "      <td>-73.991908</td>\n",
       "      <td>40.733812</td>\n",
       "      <td>-73.980544</td>\n",
       "      <td>member</td>\n",
       "      <td>21</td>\n",
       "      <td>21</td>\n",
       "      <td>8.0</td>\n",
       "    </tr>\n",
       "    <tr>\n",
       "      <th>1043186</th>\n",
       "      <td>B40238814400C8B2</td>\n",
       "      <td>classic_bike</td>\n",
       "      <td>2022-01-22 19:05:54</td>\n",
       "      <td>2022-01-22 19:16:39</td>\n",
       "      <td>Gansevoort St &amp; Hudson St</td>\n",
       "      <td>6072.14</td>\n",
       "      <td>12 Ave &amp; W 40 St</td>\n",
       "      <td>6765.01</td>\n",
       "      <td>40.739448</td>\n",
       "      <td>-74.005070</td>\n",
       "      <td>40.760875</td>\n",
       "      <td>-74.002777</td>\n",
       "      <td>member</td>\n",
       "      <td>19</td>\n",
       "      <td>19</td>\n",
       "      <td>10.0</td>\n",
       "    </tr>\n",
       "  </tbody>\n",
       "</table>\n",
       "<p>1043187 rows × 16 columns</p>\n",
       "</div>"
      ],
      "text/plain": [
       "                  ride_id  rideable_type          started_at  \\\n",
       "0        55262E4365A955A2   classic_bike 2022-01-18 08:23:52   \n",
       "1        D272F1B15D841EC0   classic_bike 2022-01-21 09:03:22   \n",
       "2        D1FCEF55EB4A807F   classic_bike 2022-01-22 14:28:32   \n",
       "3        E9CBDC6A0162C068  electric_bike 2022-01-19 14:49:47   \n",
       "4        2177A5B57326CE9B  electric_bike 2022-01-16 14:36:06   \n",
       "...                   ...            ...                 ...   \n",
       "1043182  3A8436E896501EB6   classic_bike 2022-01-09 09:40:49   \n",
       "1043183  31EE3AF319AE47D2   classic_bike 2022-01-26 16:11:27   \n",
       "1043184  C27D809EC458BE2A  electric_bike 2022-01-20 11:39:41   \n",
       "1043185  4968572973DEDCB2  electric_bike 2022-01-18 21:17:11   \n",
       "1043186  B40238814400C8B2   classic_bike 2022-01-22 19:05:54   \n",
       "\n",
       "                   ended_at         start_station_name start_station_id  \\\n",
       "0       2022-01-18 08:28:18    Boerum Pl\\t& Pacific St          4488.09   \n",
       "1       2022-01-21 09:05:44            E 12 St & Ave C          5616.08   \n",
       "2       2022-01-22 14:53:18            W 21 St & 6 Ave          6140.05   \n",
       "3       2022-01-19 14:54:02             38 St & 30 Ave          6850.01   \n",
       "4       2022-01-16 14:44:06     Pacific St & Nevins St          4362.04   \n",
       "...                     ...                        ...              ...   \n",
       "1043182 2022-01-09 09:58:55          27 St & Hunter St          6310.06   \n",
       "1043183 2022-01-26 16:17:20    Monroe St & Bedford Ave          4368.05   \n",
       "1043184 2022-01-20 11:44:46           E 118 St & 1 Ave          7596.10   \n",
       "1043185 2022-01-18 21:25:57       Allen St & Hester St          5342.10   \n",
       "1043186 2022-01-22 19:16:39  Gansevoort St & Hudson St          6072.14   \n",
       "\n",
       "                  end_station_name end_station_id  start_lat  start_lng  \\\n",
       "0        Clinton St & Joralemon St        4605.04  40.688489 -73.991160   \n",
       "1               E 10 St & Avenue A        5659.05  40.727243 -73.976831   \n",
       "2                 W 44 St & 11 Ave        6756.05  40.741740 -73.994156   \n",
       "3             Crescent St & 30 Ave        6958.06  40.764175 -73.915840   \n",
       "4          Clinton St & Tillary St        4748.07  40.685376 -73.983021   \n",
       "...                            ...            ...        ...        ...   \n",
       "1043182       Vernon Blvd & 50 Ave        6170.02  40.748500 -73.941275   \n",
       "1043183    Putnam Ave & Throop Ave        4392.04  40.685144 -73.953809   \n",
       "1043184   Lexington Ave & E 111 St        7567.06  40.797470 -73.935040   \n",
       "1043185            1 Ave & E 18 St        5854.09  40.716059 -73.991908   \n",
       "1043186           12 Ave & W 40 St        6765.01  40.739448 -74.005070   \n",
       "\n",
       "           end_lat    end_lng member_casual  start_hour  end_hour  elapsed_min  \n",
       "0        40.692395 -73.993379        member           8         8          4.0  \n",
       "1        40.727408 -73.981420        member           9         9          2.0  \n",
       "2        40.762009 -73.996975        member          14        14         24.0  \n",
       "3        40.768692 -73.924957        member          14        14          4.0  \n",
       "4        40.696233 -73.991421        member          14        14          8.0  \n",
       "...            ...        ...           ...         ...       ...          ...  \n",
       "1043182  40.742327 -73.954117        casual           9         9         18.0  \n",
       "1043183  40.685153 -73.941110        casual          16        16          5.0  \n",
       "1043184  40.795412 -73.944123        member          11        11          5.0  \n",
       "1043185  40.733812 -73.980544        member          21        21          8.0  \n",
       "1043186  40.760875 -74.002777        member          19        19         10.0  \n",
       "\n",
       "[1043187 rows x 16 columns]"
      ]
     },
     "execution_count": 5,
     "metadata": {},
     "output_type": "execute_result"
    }
   ],
   "source": [
    "df"
   ]
  },
  {
   "cell_type": "code",
   "execution_count": null,
   "id": "8b719bf1",
   "metadata": {},
   "outputs": [],
   "source": [
    "min_lat = df[\"start_lat\"].min()\n",
    "max_lat = df[\"start_lat\"].max()\n",
    "\n",
    "min_lng = df[\"start_lng\"].min()\n",
    "max_lng = df[\"start_lng\"].max()"
   ]
  },
  {
   "cell_type": "code",
   "execution_count": null,
   "id": "5f2639e5",
   "metadata": {},
   "outputs": [],
   "source": [
    "df[\"start_lat\"] = df[\"start_lat\"].round(decimals=5)\n",
    "df[\"end_lat\"] = df[\"end_lat\"].round(decimals=5)\n",
    "\n",
    "df[\"start_lng\"] = df[\"start_lng\"].round(decimals=5)\n",
    "df[\"end_lng\"] = df[\"end_lng\"].round(decimals=5)"
   ]
  },
  {
   "cell_type": "code",
   "execution_count": null,
   "id": "2a95afbb",
   "metadata": {},
   "outputs": [],
   "source": [
    "zip_df = pd.read_csv(\"uszips.csv\")"
   ]
  },
  {
   "cell_type": "code",
   "execution_count": null,
   "id": "139e1558",
   "metadata": {},
   "outputs": [],
   "source": [
    "zip_df = zip_df[[\"zip\",\"lat\",\"lng\"]]"
   ]
  },
  {
   "cell_type": "code",
   "execution_count": null,
   "id": "3065055b",
   "metadata": {},
   "outputs": [],
   "source": [
    "zip_df = zip_df.rename(columns={\"lat\":\"start_lat\", \"lng\":\"start_lng\"})"
   ]
  },
  {
   "cell_type": "code",
   "execution_count": null,
   "id": "00964462",
   "metadata": {},
   "outputs": [],
   "source": [
    "zip_df"
   ]
  },
  {
   "cell_type": "code",
   "execution_count": null,
   "id": "da43635c",
   "metadata": {},
   "outputs": [],
   "source": [
    "df"
   ]
  },
  {
   "cell_type": "code",
   "execution_count": null,
   "id": "113c1cb8",
   "metadata": {},
   "outputs": [],
   "source": [
    "merge_df = pd.concat([df, zip_df], axis=0, join=\"outer\")"
   ]
  },
  {
   "cell_type": "code",
   "execution_count": null,
   "id": "2bbff2ed",
   "metadata": {},
   "outputs": [],
   "source": [
    "merge_df[\"zip\"].info()"
   ]
  },
  {
   "cell_type": "code",
   "execution_count": null,
   "id": "2bdda8ce",
   "metadata": {},
   "outputs": [],
   "source": []
  },
  {
   "cell_type": "code",
   "execution_count": 6,
   "id": "4bf187c9",
   "metadata": {},
   "outputs": [
    {
     "data": {
      "text/plain": [
       "1528"
      ]
     },
     "execution_count": 6,
     "metadata": {},
     "output_type": "execute_result"
    }
   ],
   "source": [
    "df[\"start_station_name\"].nunique()"
   ]
  },
  {
   "cell_type": "code",
   "execution_count": null,
   "id": "e847c93d",
   "metadata": {},
   "outputs": [],
   "source": []
  },
  {
   "cell_type": "code",
   "execution_count": null,
   "id": "8068c9c1",
   "metadata": {},
   "outputs": [],
   "source": []
  },
  {
   "cell_type": "code",
   "execution_count": null,
   "id": "d1fb0e83",
   "metadata": {},
   "outputs": [],
   "source": []
  },
  {
   "cell_type": "code",
   "execution_count": null,
   "id": "15cbf750",
   "metadata": {},
   "outputs": [],
   "source": []
  },
  {
   "cell_type": "code",
   "execution_count": null,
   "id": "8e66128a",
   "metadata": {},
   "outputs": [],
   "source": [
    "sns.pairplot(df.sample(1000))"
   ]
  },
  {
   "cell_type": "code",
   "execution_count": null,
   "id": "60307d4c",
   "metadata": {},
   "outputs": [],
   "source": [
    "df.info()"
   ]
  },
  {
   "cell_type": "code",
   "execution_count": null,
   "id": "d8f66d10",
   "metadata": {},
   "outputs": [],
   "source": [
    "df.shape"
   ]
  },
  {
   "cell_type": "code",
   "execution_count": null,
   "id": "c3d1a556",
   "metadata": {},
   "outputs": [],
   "source": [
    "df.describe(include=\"all\")"
   ]
  },
  {
   "cell_type": "code",
   "execution_count": null,
   "id": "e3f31f4a",
   "metadata": {},
   "outputs": [],
   "source": [
    "df.duplicated().sum()"
   ]
  },
  {
   "cell_type": "code",
   "execution_count": null,
   "id": "a4563f2b",
   "metadata": {},
   "outputs": [],
   "source": [
    "df[\"rideable_type\"].value_counts()"
   ]
  },
  {
   "cell_type": "code",
   "execution_count": null,
   "id": "f6a6a956",
   "metadata": {},
   "outputs": [],
   "source": [
    "df[\"member_casual\"].value_counts()"
   ]
  },
  {
   "cell_type": "code",
   "execution_count": null,
   "id": "8f453e21",
   "metadata": {},
   "outputs": [],
   "source": [
    "df.isna().sum()"
   ]
  },
  {
   "cell_type": "code",
   "execution_count": null,
   "id": "c7381808",
   "metadata": {},
   "outputs": [],
   "source": [
    "df.loc[(df[\"end_station_name\"].isna()),:]"
   ]
  },
  {
   "cell_type": "code",
   "execution_count": null,
   "id": "353d3ee6",
   "metadata": {},
   "outputs": [],
   "source": [
    "df = df.dropna(axis=\"index\")"
   ]
  },
  {
   "cell_type": "code",
   "execution_count": null,
   "id": "248d6c7f",
   "metadata": {},
   "outputs": [],
   "source": [
    "df.isna().sum()"
   ]
  },
  {
   "cell_type": "code",
   "execution_count": null,
   "id": "8c04d1a6",
   "metadata": {},
   "outputs": [],
   "source": [
    "df = df.reset_index(drop=True)"
   ]
  },
  {
   "cell_type": "code",
   "execution_count": null,
   "id": "0405b9f2",
   "metadata": {},
   "outputs": [],
   "source": [
    "df.info()"
   ]
  },
  {
   "cell_type": "code",
   "execution_count": null,
   "id": "40a09423",
   "metadata": {},
   "outputs": [],
   "source": [
    "df[\"rideable_type\"] = df[\"rideable_type\"].astype(\"category\")"
   ]
  },
  {
   "cell_type": "code",
   "execution_count": null,
   "id": "74596a89",
   "metadata": {},
   "outputs": [],
   "source": [
    "df[\"member_casual\"] = df[\"member_casual\"].astype(\"category\")"
   ]
  },
  {
   "cell_type": "code",
   "execution_count": null,
   "id": "24a3e376",
   "metadata": {},
   "outputs": [],
   "source": [
    "df[\"started_at\"] = pd.to_datetime(df[\"started_at\"], infer_datetime_format=True)  "
   ]
  },
  {
   "cell_type": "code",
   "execution_count": null,
   "id": "4496ebaf",
   "metadata": {},
   "outputs": [],
   "source": [
    "df[\"ended_at\"] = pd.to_datetime(df[\"ended_at\"], infer_datetime_format=True)  "
   ]
  },
  {
   "cell_type": "code",
   "execution_count": null,
   "id": "7eddfee6",
   "metadata": {},
   "outputs": [],
   "source": [
    "df[\"start_hour\"] = df[\"started_at\"].dt.hour"
   ]
  },
  {
   "cell_type": "code",
   "execution_count": null,
   "id": "89ba78f4",
   "metadata": {},
   "outputs": [],
   "source": [
    "df[\"end_hour\"] = df[\"ended_at\"].dt.hour"
   ]
  },
  {
   "cell_type": "code",
   "execution_count": null,
   "id": "cb1e229f",
   "metadata": {},
   "outputs": [],
   "source": [
    "df[\"start_hour\"].value_counts()"
   ]
  },
  {
   "cell_type": "code",
   "execution_count": null,
   "id": "ed31d127",
   "metadata": {},
   "outputs": [],
   "source": [
    "df[\"end_hour\"].value_counts()"
   ]
  },
  {
   "cell_type": "code",
   "execution_count": null,
   "id": "52b313d5",
   "metadata": {},
   "outputs": [],
   "source": [
    "df.info()"
   ]
  },
  {
   "cell_type": "code",
   "execution_count": null,
   "id": "b1b5ef25",
   "metadata": {},
   "outputs": [],
   "source": [
    "df[\"elapsed_min\"] = (df[\"ended_at\"] - df[\"started_at\"])"
   ]
  },
  {
   "cell_type": "code",
   "execution_count": null,
   "id": "abbff4ac",
   "metadata": {},
   "outputs": [],
   "source": [
    "df[\"elapsed_min\"].value_counts()"
   ]
  },
  {
   "cell_type": "code",
   "execution_count": null,
   "id": "fc138bfe",
   "metadata": {},
   "outputs": [],
   "source": [
    "df[\"elapsed_min\"] = df[\"elapsed_min\"].astype(\"timedelta64[m]\")"
   ]
  },
  {
   "cell_type": "code",
   "execution_count": null,
   "id": "195ab818",
   "metadata": {},
   "outputs": [],
   "source": [
    "df[\"elapsed_min\"].value_counts()"
   ]
  },
  {
   "cell_type": "code",
   "execution_count": null,
   "id": "7313ff87",
   "metadata": {},
   "outputs": [],
   "source": [
    "df.sample(50)"
   ]
  },
  {
   "cell_type": "code",
   "execution_count": null,
   "id": "6abb2310",
   "metadata": {},
   "outputs": [],
   "source": [
    "df.info()"
   ]
  },
  {
   "cell_type": "code",
   "execution_count": null,
   "id": "990a535a",
   "metadata": {},
   "outputs": [],
   "source": [
    "df.to_csv(\"JAN22_clean.csv\")"
   ]
  },
  {
   "cell_type": "code",
   "execution_count": null,
   "id": "0fce5d85",
   "metadata": {},
   "outputs": [],
   "source": [
    "profile = ProfileReport(df, title=\"Pandas Profiling Report\")"
   ]
  },
  {
   "cell_type": "code",
   "execution_count": null,
   "id": "dac40221",
   "metadata": {},
   "outputs": [],
   "source": [
    "profile.to_file(\"JAN22_report.html\")"
   ]
  },
  {
   "cell_type": "code",
   "execution_count": null,
   "id": "cb0fc873",
   "metadata": {},
   "outputs": [],
   "source": []
  }
 ],
 "metadata": {
  "kernelspec": {
   "display_name": "Python 3 (ipykernel)",
   "language": "python",
   "name": "python3"
  },
  "language_info": {
   "codemirror_mode": {
    "name": "ipython",
    "version": 3
   },
   "file_extension": ".py",
   "mimetype": "text/x-python",
   "name": "python",
   "nbconvert_exporter": "python",
   "pygments_lexer": "ipython3",
   "version": "3.8.10"
  }
 },
 "nbformat": 4,
 "nbformat_minor": 5
}
